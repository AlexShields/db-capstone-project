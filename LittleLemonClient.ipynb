{
 "cells": [
  {
   "cell_type": "code",
   "execution_count": null,
   "metadata": {},
   "outputs": [],
   "source": [
    "#install connector api using the command below.\n",
    "%pip install mysql-connector-python"
   ]
  },
  {
   "cell_type": "code",
   "execution_count": null,
   "metadata": {},
   "outputs": [],
   "source": [
    "#Step 1: Establish a connection \n",
    "# Import the MySQL Connector/Python\n",
    "import mysql.connector as connector"
   ]
  },
  {
   "cell_type": "code",
   "execution_count": null,
   "metadata": {},
   "outputs": [],
   "source": [
    "# Establish connection between Python and MySQL database via connector API\n",
    "connection=connector.connect(host=\"localhost\",\n",
    "                             user=\"root\", # use your own\n",
    "                             password=\"admin\", # use your own\n",
    "                            )\n",
    "print(\"Connection between MySQL and Python is established.\\n\")"
   ]
  },
  {
   "cell_type": "code",
   "execution_count": null,
   "metadata": {},
   "outputs": [],
   "source": [
    "#Step 2: Create a cursor\n",
    "# Create cursor object to communicate with entire MySQL database\n",
    "cursor = connection.cursor()\n",
    "print(\"Cursor is created to communicate with the MySQL using Python.\\n\")"
   ]
  },
  {
   "cell_type": "code",
   "execution_count": null,
   "metadata": {},
   "outputs": [],
   "source": [
    "#Create the database and set it for use\n",
    "# If exist, drop the database first, and create again\n",
    "try:\n",
    "    cursor.execute(\"CREATE DATABASE little_lemon_db\")\n",
    "except:\n",
    "    cursor.execute(\"drop database little_lemon_db\")\n",
    "    cursor.execute(\"CREATE DATABASE little_lemon_db\")\n",
    "print(\"The database little_lemon_db is created.\\n\")"
   ]
  },
  {
   "cell_type": "code",
   "execution_count": null,
   "metadata": {},
   "outputs": [],
   "source": [
    "# Set little_lemon database for use \n",
    "cursor.execute(\"USE little_lemon_db\")\n",
    "print(\"The database little_lemon_db is set for use.\\n\")"
   ]
  },
  {
   "cell_type": "code",
   "execution_count": null,
   "metadata": {},
   "outputs": [],
   "source": [
    "#Step 4: Create tables\n",
    "#Create statement for MenuItems table\n",
    "create_menuitem_table = \"\"\"CREATE TABLE MenuItems (\n",
    "ItemID INT AUTO_INCREMENT,\n",
    "Name VARCHAR(200),\n",
    "Type VARCHAR(100),\n",
    "Price INT,\n",
    "PRIMARY KEY (ItemID)\n",
    ");\"\"\""
   ]
  },
  {
   "cell_type": "code",
   "execution_count": null,
   "metadata": {},
   "outputs": [],
   "source": [
    "#Create statement for Menus table\n",
    "create_menu_table = \"\"\"CREATE TABLE Menus (\n",
    "MenuID INT,\n",
    "ItemID INT,\n",
    "Cuisine VARCHAR(100),\n",
    "PRIMARY KEY (MenuID,ItemID)\n",
    ");\"\"\""
   ]
  },
  {
   "cell_type": "code",
   "execution_count": null,
   "metadata": {},
   "outputs": [],
   "source": [
    "#Create statement for Bookings table\n",
    "create_booking_table = \"\"\"CREATE TABLE Bookings (\n",
    "BookingID INT AUTO_INCREMENT,\n",
    "TableNo INT,\n",
    "GuestFirstName VARCHAR(100) NOT NULL,\n",
    "GuestLastName VARCHAR(100) NOT NULL,\n",
    "BookingSlot TIME NOT NULL,\n",
    "EmployeeID INT,\n",
    "PRIMARY KEY (BookingID)\n",
    ");\"\"\""
   ]
  },
  {
   "cell_type": "code",
   "execution_count": null,
   "metadata": {},
   "outputs": [],
   "source": [
    "#Create statement for Orders table\n",
    "create_orders_table = \"\"\"CREATE TABLE Orders (\n",
    "OrderID INT,\n",
    "TableNo INT,\n",
    "MenuID INT,\n",
    "BookingID INT,\n",
    "BillAmount INT,\n",
    "Quantity INT,\n",
    "PRIMARY KEY (OrderID,TableNo)\n",
    ");\"\"\""
   ]
  },
  {
   "cell_type": "code",
   "execution_count": null,
   "metadata": {},
   "outputs": [],
   "source": [
    "#Create statement for employees table\n",
    "create_employees_table = \"\"\"CREATE TABLE Employees (\n",
    "EmployeeID INT NOT NULL AUTO_INCREMENT,\n",
    "Name VARCHAR(100),\n",
    "Role VARCHAR(100),\n",
    "Address VARCHAR(255),\n",
    "Contact_Number INT,\n",
    "Email VARCHAR(100),\n",
    "Annual_Salary VARCHAR(100),\n",
    "PRIMARY KEY(EmployeeID)\n",
    ");\"\"\""
   ]
  },
  {
   "cell_type": "code",
   "execution_count": null,
   "metadata": {},
   "outputs": [],
   "source": [
    "# Create MenuItems table\n",
    "cursor.execute(create_menuitem_table)\n",
    "\n",
    "# Create Menu table\n",
    "cursor.execute(create_menu_table)\n",
    "\n",
    "# Create Bookings table\n",
    "cursor.execute(create_booking_table)\n",
    "\n",
    "# Create Orders table\n",
    "cursor.execute(create_orders_table)\n",
    "\n",
    "# Create Employees table\n",
    "cursor.execute(create_employees_table)"
   ]
  },
  {
   "cell_type": "code",
   "execution_count": null,
   "metadata": {},
   "outputs": [],
   "source": [
    "#Step 5: Insert data#\n",
    "#*******************************************************#\n",
    "# Insert query to populate \"MenuItems\" table:\n",
    "#*******************************************************#\n",
    "insert_menuitems=\"\"\"\n",
    "INSERT INTO MenuItems (ItemID, Name, Type, Price)\n",
    "VALUES\n",
    "(1, 'Olives','Starters',5),\n",
    "(2, 'Flatbread','Starters', 5),\n",
    "(3, 'Minestrone', 'Starters', 8),\n",
    "(4, 'Tomato bread','Starters', 8),\n",
    "(5, 'Falafel', 'Starters', 7),\n",
    "(6, 'Hummus', 'Starters', 5),\n",
    "(7, 'Greek salad', 'Main Courses', 15),\n",
    "(8, 'Bean soup', 'Main Courses', 12),\n",
    "(9, 'Pizza', 'Main Courses', 15),\n",
    "(10, 'Greek yoghurt','Desserts', 7),\n",
    "(11, 'Ice cream', 'Desserts', 6),\n",
    "(12, 'Cheesecake', 'Desserts', 4),\n",
    "(13, 'Athens White wine', 'Drinks', 25),\n",
    "(14, 'Corfu Red Wine', 'Drinks', 30),\n",
    "(15, 'Turkish Coffee', 'Drinks', 10),\n",
    "(16, 'Turkish Coffee', 'Drinks', 10),\n",
    "(17, 'Kabasa', 'Main Courses', 17);\"\"\"\n"
   ]
  },
  {
   "cell_type": "code",
   "execution_count": null,
   "metadata": {},
   "outputs": [],
   "source": [
    "#*******************************************************#\n",
    "# Insert query to populate \"Menu\" table:\n",
    "#*******************************************************#\n",
    "insert_menu=\"\"\"\n",
    "INSERT INTO Menus (MenuID,ItemID,Cuisine)\n",
    "VALUES\n",
    "(1, 1, 'Greek'),\n",
    "(1, 7, 'Greek'),\n",
    "(1, 10, 'Greek'),\n",
    "(1, 13, 'Greek'),\n",
    "(2, 3, 'Italian'),\n",
    "(2, 9, 'Italian'),\n",
    "(2, 12, 'Italian'),\n",
    "(2, 15, 'Italian'),\n",
    "(3, 5, 'Turkish'),\n",
    "(3, 17, 'Turkish'),\n",
    "(3, 11, 'Turkish'),\n",
    "(3, 16, 'Turkish');\"\"\"\n",
    "\n"
   ]
  },
  {
   "cell_type": "code",
   "execution_count": null,
   "metadata": {},
   "outputs": [],
   "source": [
    "#*******************************************************#\n",
    "# Insert query to populate \"Bookings\" table:\n",
    "#*******************************************************#\n",
    "insert_bookings=\"\"\"\n",
    "INSERT INTO Bookings (BookingID, TableNo, GuestFirstName, \n",
    "GuestLastName, BookingSlot, EmployeeID)\n",
    "VALUES\n",
    "(1, 12, 'Anna','Iversen','19:00:00',1),\n",
    "(2, 12, 'Joakim', 'Iversen', '19:00:00', 1),\n",
    "(3, 19, 'Vanessa', 'McCarthy', '15:00:00', 3),\n",
    "(4, 15, 'Marcos', 'Romero', '17:30:00', 4),\n",
    "(5, 5, 'Hiroki', 'Yamane', '18:30:00', 2),\n",
    "(6, 8, 'Diana', 'Pinto', '20:00:00', 5);\"\"\""
   ]
  },
  {
   "cell_type": "code",
   "execution_count": null,
   "metadata": {},
   "outputs": [],
   "source": [
    "#*******************************************************#\n",
    "# Insert query to populate \"Orders\" table:\n",
    "#*******************************************************#\n",
    "insert_orders=\"\"\"\n",
    "INSERT INTO Orders (OrderID, TableNo, MenuID, BookingID, Quantity, BillAmount)\n",
    "VALUES\n",
    "(1, 12, 1, 1, 2, 86),\n",
    "(2, 19, 2, 2, 1, 37),\n",
    "(3, 15, 2, 3, 1, 37),\n",
    "(4, 5, 3, 4, 1, 40),\n",
    "(5, 8, 1, 5, 1, 43);\"\"\"\n",
    "\n"
   ]
  },
  {
   "cell_type": "code",
   "execution_count": null,
   "metadata": {},
   "outputs": [],
   "source": [
    "#*******************************************************#\n",
    "# Insert query to populate \"Employees\" table:\n",
    "#*******************************************************#\n",
    "insert_employees = \"\"\"\n",
    "INSERT INTO employees (Name, Role, Address, Contact_Number, Email, Annual_Salary)\n",
    "VALUES \n",
    "('Mario Gollini','Manager','724, Parsley Lane, Old Town, Chicago, IL',351258074,'Mario.g@littlelemon.com','$70,000'),\n",
    "('Adrian Gollini','Assistant Manager','334, Dill Square, Lincoln Park, Chicago, IL',351474048,'Adrian.g@littlelemon.com','$65,000'),\n",
    "('Giorgos Dioudis','Head Chef','879 Sage Street, West Loop, Chicago, IL',351970582,'Giorgos.d@littlelemon.com','$50,000'),\n",
    "('Fatma Kaya','Assistant Chef','132  Bay Lane, Chicago, IL',351963569,'Fatma.k@littlelemon.com','$45,000'),\n",
    "('Elena Salvai','Head Waiter','989 Thyme Square, EdgeWater, Chicago, IL',351074198,'Elena.s@littlelemon.com','$40,000'),\n",
    "('John Millar','Receptionist','245 Dill Square, Lincoln Park, Chicago, IL',351584508,'John.m@littlelemon.com','$35,000');\"\"\""
   ]
  },
  {
   "cell_type": "code",
   "execution_count": null,
   "metadata": {},
   "outputs": [],
   "source": [
    "# Populate MenuItems table\n",
    "cursor.execute(insert_menuitems)\n",
    "connection.commit()"
   ]
  },
  {
   "cell_type": "code",
   "execution_count": null,
   "metadata": {},
   "outputs": [],
   "source": [
    "# Populate MenuItems table\n",
    "cursor.execute(insert_menu)\n",
    "connection.commit()"
   ]
  },
  {
   "cell_type": "code",
   "execution_count": null,
   "metadata": {},
   "outputs": [],
   "source": [
    "# Populate Bookings table\n",
    "cursor.execute(insert_bookings)\n",
    "connection.commit()"
   ]
  },
  {
   "cell_type": "code",
   "execution_count": null,
   "metadata": {},
   "outputs": [],
   "source": [
    "# Populate Orders table\n",
    "cursor.execute(insert_orders)\n",
    "connection.commit()\n"
   ]
  },
  {
   "cell_type": "code",
   "execution_count": null,
   "metadata": {},
   "outputs": [],
   "source": [
    "# Populate Employees table\n",
    "cursor.execute(insert_employees)\n",
    "connection.commit()"
   ]
  },
  {
   "cell_type": "code",
   "execution_count": null,
   "metadata": {},
   "outputs": [],
   "source": [
    "connection.close()"
   ]
  },
  {
   "cell_type": "code",
   "execution_count": null,
   "metadata": {},
   "outputs": [],
   "source": [
    "#Task 1 establish a connection pool\n",
    "#Import MYSQLConnectionPool\n",
    "from mysql.connector import pooling\n",
    "\n"
   ]
  },
  {
   "cell_type": "code",
   "execution_count": null,
   "metadata": {},
   "outputs": [],
   "source": [
    "#import Error\n",
    "from mysql.connector.errors import Error"
   ]
  },
  {
   "cell_type": "code",
   "execution_count": null,
   "metadata": {},
   "outputs": [],
   "source": [
    "dbconfig = {\n",
    "  'user': 'root',\n",
    "  'password': 'admin',\n",
    "  'host': 'localhost',\n",
    "  'database': 'little_lemon_db',\n",
    "  'raise_on_warnings': True\n",
    "}\n"
   ]
  },
  {
   "cell_type": "code",
   "execution_count": null,
   "metadata": {},
   "outputs": [],
   "source": [
    "#Create pool_a with 2 connections\n",
    "try:\n",
    "    # Establish a connection pool with two connections\n",
    "    pool_b = pooling.MySQLConnectionPool(pool_size=2, **dbconfig)\n",
    "    print(\"Connection pool created successfully.\")\n",
    "except Error as e:\n",
    "    print(\"Error creating connection pool:\", e)\n"
   ]
  },
  {
   "cell_type": "code",
   "execution_count": null,
   "metadata": {},
   "outputs": [],
   "source": [
    "# Guest 1 data\n",
    "table_number_1 = 8\n",
    "first_name_1 = 'Anees'\n",
    "last_name_1 = 'Java'\n",
    "booking_time_1 = '18:00'\n",
    "employee_id_1 = 6\n",
    "\n",
    "# Guest 2 data\n",
    "table_number_2 = 5\n",
    "first_name_2 = 'Bald'\n",
    "last_name_2 = 'Vin'\n",
    "booking_time_2 = '19:00'\n",
    "employee_id_2 = 6\n",
    "\n",
    "# Guest 3 data\n",
    "table_number_3 = 12\n",
    "first_name_3 = 'Jay'\n",
    "last_name_3 = 'Kon'\n",
    "booking_time_3 = '19:30'\n",
    "employee_id_3 = 6\n",
    "\n",
    "#For each guest get a connection from the pool and insert data into the Bookings table\n",
    "\n",
    "try:\n",
    "    conn1 = pool_b.get_connection()\n",
    "    cursor1 = conn1.cursor()\n",
    "    cursor1.execute(\"INSERT INTO Bookings (TableNo, GuestFirstName, GuestLastName, BookingSlot, EmployeeID) VALUES (%s, %s, %s, %s, %s)\", (table_number_1, first_name_1, last_name_1, booking_time_1, employee_id_1))\n",
    "    conn1.commit()\n",
    "    print(\"Data inserted successfully into the Bookings table (guest 1).\")\n",
    "except Error as e:\n",
    "    print(\"Error inserting data into the Bookings table (guest 1):\", e)\n",
    "    # Create a connection\n",
    "    connection=connector.connect(user=\"root\",password=\"admin\")\n",
    "    # Add the connection into the pool\n",
    "    pool_b.add_connection()\n",
    "    print(\"A new connection is added in the pool.\\n\")\n",
    "    conn1 = pool_b.get_connection()\n",
    "    print(\"'connection1' is added in the pool.\")\n",
    "\n",
    "try:\n",
    "    conn2 = pool_b.get_connection()\n",
    "    cursor2 = conn2.cursor()\n",
    "    cursor2.execute(\"INSERT INTO Bookings (TableNo, GuestFirstName, GuestLastName, BookingSlot, EmployeeID) VALUES (%s, %s, %s, %s, %s)\", (table_number_2, first_name_2, last_name_2, booking_time_2, employee_id_2))\n",
    "    conn2.commit()\n",
    "    print(\"Data inserted successfully into the Bookings table (guest 2).\")\n",
    "except Error as e:\n",
    "    print(\"Error inserting data into the Bookings table (guest 2):\", e)\n",
    "    # Create a connection\n",
    "    connection=connector.connect(user=\"root\",password=\"admin\")\n",
    "    # Add the connection into the pool\n",
    "    pool_b.add_connection()\n",
    "    print(\"A new connection is added in the pool.\\n\")\n",
    "    conn2 = pool_b.get_connection()\n",
    "    print(\"'connection2' is added in the pool.\")\n",
    "    cursor2 = conn2.cursor()\n",
    "    cursor2.execute(\"INSERT INTO Bookings (TableNo, GuestFirstName, GuestLastName, BookingSlot, EmployeeID) VALUES (%s, %s, %s, %s, %s)\", (table_number_2, first_name_2, last_name_2, booking_time_2, employee_id_2))\n",
    "    conn2.commit()\n",
    "    print(\"Data inserted successfully into the Bookings table (guest 2).\")\n",
    "\n",
    "\n",
    "try:\n",
    "    conn3 = pool_b.get_connection()\n",
    "    cursor3 = conn3.cursor()\n",
    "    cursor3.execute(\"INSERT INTO Bookings (TableNo, GuestFirstName, GuestLastName, BookingSlot, EmployeeID) VALUES (%s, %s, %s, %s, %s)\", (table_number_3, first_name_3, last_name_3, booking_time_3, employee_id_3))\n",
    "    conn3.commit()\n",
    "    print(\"Data inserted successfully into the Bookings table (guest 3).\")\n",
    "except Error as e:\n",
    "    print(\"Error inserting data into the Bookings table (guest 3):\", e)\n",
    "    # Create a connection\n",
    "    connection=connector.connect(user=\"root\",password=\"admin\")\n",
    "    # Add the connection into the pool\n",
    "    pool_b.add_connection()\n",
    "    print(\"A new connection is added in the pool.\\n\")\n",
    "    conn3 = pool_b.get_connection()\n",
    "    print(\"'connection3' is added in the pool.\")\n",
    "    cursor3 = conn3.cursor()\n",
    "    cursor3.execute(\"INSERT INTO Bookings (TableNo, GuestFirstName, GuestLastName, BookingSlot, EmployeeID) VALUES (%s, %s, %s, %s, %s)\", (table_number_3, first_name_3, last_name_3, booking_time_3, employee_id_3))\n",
    "    conn3.commit()\n",
    "    print(\"Data inserted successfully into the Bookings table (guest 3).\")\n",
    "\n",
    "# Close the cursors if they were successfully defined\n",
    "conns = (conn1,conn2,conn3)\n",
    "for conn in conns:\n",
    "    try:\n",
    "        conn.close()\n",
    "    except Error as e:\n",
    "        print(e.msg)\n"
   ]
  },
  {
   "cell_type": "code",
   "execution_count": null,
   "metadata": {},
   "outputs": [],
   "source": [
    "#Generate a report \n",
    "\n",
    "#Create a new connection to pool_b\n",
    "cnx = pool_b.get_connection()\n",
    "#Create a new cursor in the connection\n",
    "cursor=cnx.cursor()\n",
    "#Import pandas to create a dataframe report from results\n",
    "import pandas as pd\n",
    "\n",
    "#find the name and EmployeeID of the Little Lemon manager\n",
    "cursor.execute(\"SELECT Name, EmployeeID FROM employees WHERE Role = 'Manager'\")\n",
    "manager = cursor.fetchone()\n",
    "\n",
    "#find the name and role of the employee who receives the highest salary\n",
    "cursor.execute(\"SELECT Name, Role FROM employees ORDER BY Annual_Salary DESC LIMIT 1\")\n",
    "highest_paid_employee = cursor.fetchone()\n",
    "\n",
    "#find the number of guests booked between 18:00 and 20:00\n",
    "cursor.execute(\"SELECT COUNT(*) FROM Bookings WHERE BookingSlot BETWEEN '18:00' AND '20:00'\")\n",
    "guest_count = cursor.fetchone()[0]\n",
    "\n",
    "# Query to find the full name and BookingID of all guests waiting to be seated with the receptionist in sorted order with respect to their BookingSlot\n",
    "cursor.execute(\"SELECT GuestFirstName, GuestLastName, BookingID, CONCAT(HOUR(BookingSlot),':',LPAD(MINUTE(BookingSlot),2,0)) FROM Bookings ORDER BY BookingSlot\")\n",
    "guests = cursor.fetchall()\n",
    "\n",
    "# Create dataframe report\n",
    "data = {'Little Lemon Manager': [manager[0]], 'EmployeeID': [manager[1]], 'Highest Paid Employee': [highest_paid_employee[0]], 'Role': [highest_paid_employee[1]], 'Number of guests booked between 18:00 and 20:00': [guest_count]}\n",
    "df = pd.DataFrame(data)\n",
    "\n",
    "# Creating the dataframe for guests\n",
    "guests_df = pd.DataFrame(guests)\n",
    "guests_df.columns =['Guest First Name', 'Guest Last Name','Booking ID', 'Booking Slot']\n",
    "# Displaying the dataframe\n",
    "print(df)\n",
    "print(guests_df)\n",
    "\n",
    "# Close the connection\n",
    "cnx.close()"
   ]
  },
  {
   "cell_type": "code",
   "execution_count": null,
   "metadata": {},
   "outputs": [],
   "source": [
    "#Create a new connection to pool_b\n",
    "cnx = pool_b.get_connection()\n",
    "#Create a new cursor in the connection\n",
    "cursor=cnx.cursor()\n",
    "#Create a string that will creatue a stored procedure on the MYSQL database named BasicSalesReport\n",
    "create_basic_sales_report =\"\"\"\n",
    "CREATE PROCEDURE IF NOT EXISTS BasicSalesReport()\n",
    "BEGIN\n",
    "    SELECT SUM(BillAmount) AS 'Total Sales',\n",
    "           AVG(BillAmount) AS 'Average Sale',\n",
    "           MIN(BillAmount) AS 'Minimum Bill Paid',\n",
    "           MAX(BillAmount) AS 'Maximum Bill Paid'\n",
    "    FROM Orders;\n",
    "END\n",
    "\"\"\""
   ]
  },
  {
   "cell_type": "code",
   "execution_count": null,
   "metadata": {},
   "outputs": [],
   "source": [
    "#execute the create query\n",
    "try:\n",
    "    cursor.execute(create_basic_sales_report)\n",
    "except:\n",
    "    cursor.execute(\"DROP PROCEDURE BasicSalesReport\")\n",
    "    cursor.execute(create_basic_sales_report)\n",
    "cnx.commit()\n"
   ]
  },
  {
   "cell_type": "code",
   "execution_count": null,
   "metadata": {},
   "outputs": [],
   "source": [
    "#Call BasicSalesReport Procedure\n",
    "cursor.callproc('BasicSalesReport')\n",
    "results = cursor.stored_results()\n"
   ]
  },
  {
   "cell_type": "code",
   "execution_count": null,
   "metadata": {},
   "outputs": [],
   "source": [
    "#Create column list to extract column names to\n",
    "col_list = []\n",
    "\n",
    "#Loop through the generator 'results' for each element\n",
    "for generator_element in results:\n",
    "    #Extract the description of each column from an element in the generator. Store it as col_desc\n",
    "    col_desc = list(generator_element.description)\n",
    "    #Extract the dataset as a list from the generator element\n",
    "    results = generator_element.fetchall()\n",
    "    dataset = results[0]\n",
    "    for x in col_desc:\n",
    "        col_list.append(x[0])\n",
    "#Print the names of the columns followed by their value\n",
    "for x in range(4):\n",
    "        print(col_list[x]+\" : $\"+str(round(dataset[x],2)))\n",
    "cnx.close()\n"
   ]
  },
  {
   "cell_type": "code",
   "execution_count": null,
   "metadata": {},
   "outputs": [],
   "source": [
    "#Get a connection from the connection pool \n",
    "try:\n",
    "    cnx = pool_b.get_connection()\n",
    "except:\n",
    "    print(\"Error establishing Connection\")\n",
    "if (cnx.is_connected()):\n",
    "    print(\"Connected\")\n",
    "else:\n",
    "    print(\"Not connected\")\n",
    "cursor = cnx.cursor(buffered=True)\n",
    "cursor.execute(\"\"\"\n",
    "SELECT \n",
    "    Bookings.BookingID, \n",
    "    Bookings.TableNo, \n",
    "    CONCAT(Bookings.GuestFirstName,\" \",Bookings.GuestLastName) As 'Guest Name', \n",
    "    CONCAT(HOUR(Bookings.BookingSlot),':',LPAD(MINUTE(Bookings.BookingSlot),2,0)) AS 'Booking Slot', \n",
    "    Employees.Name,\n",
    "    Employees.Role,\n",
    "    Employees.Annual_Salary\n",
    "FROM Bookings\n",
    "JOIN Employees ON Bookings.EmployeeID = Employees.EmployeeID\n",
    "ORDER BY Bookings.BookingSlot ASC\n",
    "LIMIT 3;\"\"\")\n",
    "results = cursor.fetchall()\n",
    "for x in results:\n",
    "    print(\"BookingSlot \"+x[3]+\"\")\n",
    "    print(\"\\tGuest_name: \"+x[2])\n",
    "    print(\"\\tAssigned to: \"+x[4]+\" \"+x[5]+\"\\n\")\n",
    "#Close Connection\n",
    "try:\n",
    "    cnx.close()\n",
    "    print(\"Connection closed\")\n",
    "except:\n",
    "    print(\"error closing connection\")"
   ]
  }
 ],
 "metadata": {
  "kernelspec": {
   "display_name": "Python 3",
   "language": "python",
   "name": "python3"
  },
  "language_info": {
   "codemirror_mode": {
    "name": "ipython",
    "version": 3
   },
   "file_extension": ".py",
   "mimetype": "text/x-python",
   "name": "python",
   "nbconvert_exporter": "python",
   "pygments_lexer": "ipython3",
   "version": "3.10.8 (tags/v3.10.8:aaaf517, Oct 11 2022, 16:50:30) [MSC v.1933 64 bit (AMD64)]"
  },
  "orig_nbformat": 4,
  "vscode": {
   "interpreter": {
    "hash": "d0d8f4ad52842acb1bd88b5e4d5a3e855ffe6009d6de89734aac6954d5696bda"
   }
  }
 },
 "nbformat": 4,
 "nbformat_minor": 2
}
