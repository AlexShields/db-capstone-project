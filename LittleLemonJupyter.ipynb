{
 "cells": [
  {
   "cell_type": "code",
   "execution_count": 19,
   "metadata": {},
   "outputs": [
    {
     "name": "stdout",
     "output_type": "stream",
     "text": [
      "Looking in indexes: https://pypi.org/simple, https://pypi.ngc.nvidia.com\n",
      "Requirement already satisfied: mysql-connector-python in c:\\users\\alex\\appdata\\local\\programs\\python\\python310\\lib\\site-packages (8.0.32)\n",
      "Requirement already satisfied: protobuf<=3.20.3,>=3.11.0 in c:\\users\\alex\\appdata\\local\\programs\\python\\python310\\lib\\site-packages (from mysql-connector-python) (3.20.1)\n",
      "Note: you may need to restart the kernel to use updated packages.\n"
     ]
    }
   ],
   "source": [
    "#install connector api using the command below.\n",
    "%pip install mysql-connector-python"
   ]
  },
  {
   "cell_type": "code",
   "execution_count": 20,
   "metadata": {},
   "outputs": [],
   "source": [
    "# Import the MySQL Connector/Python\n",
    "import mysql.connector as connector"
   ]
  },
  {
   "cell_type": "code",
   "execution_count": 21,
   "metadata": {},
   "outputs": [
    {
     "name": "stdout",
     "output_type": "stream",
     "text": [
      "Connection between MySQL and Python is established \n",
      "\n"
     ]
    }
   ],
   "source": [
    "# Establish connection between Python and MySQL database via connector API\n",
    "connection=connector.connect(host=\"localhost\",\n",
    "                             user=\"CapstoneAuthor\", # use your own\n",
    "                             password=\"admin\", # use your own\n",
    "                            )\n",
    "print(\"Connection between MySQL and Python is established \\n\")"
   ]
  },
  {
   "cell_type": "code",
   "execution_count": 22,
   "metadata": {},
   "outputs": [
    {
     "name": "stdout",
     "output_type": "stream",
     "text": [
      "Cursor is created to communicate with the MySQL using Python.\n",
      "\n"
     ]
    }
   ],
   "source": [
    "# Create cursor object to communicate with entire MySQL database\n",
    "cursor = connection.cursor()\n",
    "print(\"Cursor is created to communicate with the MySQL using Python.\\n\")"
   ]
  },
  {
   "cell_type": "code",
   "execution_count": 23,
   "metadata": {},
   "outputs": [
    {
     "name": "stdout",
     "output_type": "stream",
     "text": [
      "The database littlelemon is set for use.\n",
      "\n"
     ]
    }
   ],
   "source": [
    "# Set little_lemon database for use \n",
    "cursor.execute(\"USE littlelemon\")\n",
    "print(\"The database littlelemon is set for use.\\n\")"
   ]
  },
  {
   "cell_type": "code",
   "execution_count": 24,
   "metadata": {},
   "outputs": [
    {
     "name": "stdout",
     "output_type": "stream",
     "text": [
      "[('bigspender',), ('bookings',), ('customerdetails',), ('menu',), ('menuitems',), ('orders',), ('orderstatus',), ('ordersview',), ('staffinfromation',), ('threeormore',)]\n"
     ]
    }
   ],
   "source": [
    "#Show all tables in database\n",
    "show_tables_query = \"SHOW tables\" \n",
    "cursor.execute(show_tables_query)\n",
    "results = cursor.fetchall()\n",
    "print(results)"
   ]
  },
  {
   "cell_type": "code",
   "execution_count": 25,
   "metadata": {},
   "outputs": [
    {
     "name": "stdout",
     "output_type": "stream",
     "text": [
      "[]\n"
     ]
    }
   ],
   "source": [
    "#Return full name, contact details,for customers that placed an order greater than $60.\n",
    "at_least_60_query = \"SELECT DISTINCT CustomerDetails.CustomerName, CustomerDetails.CustomerID, CustomerDetails.PhoneNumber, CustomerDetails.EmailAddress FROM CustomerDetails LEFT JOIN Orders ON CustomerDetails.CustomerID = Orders.CustomerID WHERE Orders.OrderID IN (SELECT OrderID FROM Orders WHERE TotalCost >= 60);\"\n",
    "cursor.execute(at_least_60_query)\n",
    "results = cursor.fetchall()\n",
    "print(results)"
   ]
  },
  {
   "cell_type": "code",
   "execution_count": 57,
   "metadata": {},
   "outputs": [],
   "source": [
    "connection.close()"
   ]
  }
 ],
 "metadata": {
  "kernelspec": {
   "display_name": "Python 3",
   "language": "python",
   "name": "python3"
  },
  "language_info": {
   "codemirror_mode": {
    "name": "ipython",
    "version": 3
   },
   "file_extension": ".py",
   "mimetype": "text/x-python",
   "name": "python",
   "nbconvert_exporter": "python",
   "pygments_lexer": "ipython3",
   "version": "3.10.8"
  },
  "orig_nbformat": 4,
  "vscode": {
   "interpreter": {
    "hash": "d0d8f4ad52842acb1bd88b5e4d5a3e855ffe6009d6de89734aac6954d5696bda"
   }
  }
 },
 "nbformat": 4,
 "nbformat_minor": 2
}
